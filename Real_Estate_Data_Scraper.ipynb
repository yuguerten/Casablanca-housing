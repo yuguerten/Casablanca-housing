{
  "nbformat": 4,
  "nbformat_minor": 0,
  "metadata": {
    "colab": {
      "provenance": [],
      "authorship_tag": "ABX9TyPvuDptOdZSkgUoIjKdnrH9",
      "include_colab_link": true
    },
    "kernelspec": {
      "name": "python3",
      "display_name": "Python 3"
    },
    "language_info": {
      "name": "python"
    }
  },
  "cells": [
    {
      "cell_type": "markdown",
      "metadata": {
        "id": "view-in-github",
        "colab_type": "text"
      },
      "source": [
        "<a href=\"https://colab.research.google.com/github/yuguerten/Casablanca-housing/blob/main/Real_Estate_Data_Scraper.ipynb\" target=\"_parent\"><img src=\"https://colab.research.google.com/assets/colab-badge.svg\" alt=\"Open In Colab\"/></a>"
      ]
    },
    {
      "cell_type": "markdown",
      "source": [
        "*Installing libraries*"
      ],
      "metadata": {
        "id": "okwKH3yXAdal"
      }
    },
    {
      "cell_type": "code",
      "source": [
        "!pip install beautifulsoup4\n",
        "!pip install requests"
      ],
      "metadata": {
        "colab": {
          "base_uri": "https://localhost:8080/"
        },
        "id": "kipoq62GAkYY",
        "outputId": "ce103397-300e-484a-d3c2-d1b8f51dcbd6"
      },
      "execution_count": 2,
      "outputs": [
        {
          "output_type": "stream",
          "name": "stdout",
          "text": [
            "Requirement already satisfied: beautifulsoup4 in /usr/local/lib/python3.10/dist-packages (4.11.2)\n",
            "Requirement already satisfied: soupsieve>1.2 in /usr/local/lib/python3.10/dist-packages (from beautifulsoup4) (2.5)\n",
            "Requirement already satisfied: requests in /usr/local/lib/python3.10/dist-packages (2.31.0)\n",
            "Requirement already satisfied: charset-normalizer<4,>=2 in /usr/local/lib/python3.10/dist-packages (from requests) (3.3.2)\n",
            "Requirement already satisfied: idna<4,>=2.5 in /usr/local/lib/python3.10/dist-packages (from requests) (3.4)\n",
            "Requirement already satisfied: urllib3<3,>=1.21.1 in /usr/local/lib/python3.10/dist-packages (from requests) (2.0.7)\n",
            "Requirement already satisfied: certifi>=2017.4.17 in /usr/local/lib/python3.10/dist-packages (from requests) (2023.7.22)\n"
          ]
        }
      ]
    },
    {
      "cell_type": "markdown",
      "source": [
        "*Improting libraries*"
      ],
      "metadata": {
        "id": "OVoUJsjvByle"
      }
    },
    {
      "cell_type": "code",
      "source": [
        "from bs4 import BeautifulSoup\n",
        "import requests\n",
        "import matplotlib.pyplot as plt\n"
      ],
      "metadata": {
        "id": "IbAH_E8tBtN2"
      },
      "execution_count": 30,
      "outputs": []
    },
    {
      "cell_type": "markdown",
      "source": [
        "*Define the url and use the GET html method to extract the web page*"
      ],
      "metadata": {
        "id": "lvWRm32aBbK6"
      }
    },
    {
      "cell_type": "code",
      "source": [
        "url = \"https://www.mubawab.ma/fr/scr/casablanca-settat/appartements-a-vendre:o:d\"\n",
        "res = requests.get(url)"
      ],
      "metadata": {
        "id": "BaFiiuFcBCF8"
      },
      "execution_count": 62,
      "outputs": []
    },
    {
      "cell_type": "code",
      "source": [
        "print(res)"
      ],
      "metadata": {
        "colab": {
          "base_uri": "https://localhost:8080/"
        },
        "id": "lY1WevkKBCIs",
        "outputId": "2d94fce9-5a3b-4fcb-a8a0-3ec51d2b0be2"
      },
      "execution_count": 63,
      "outputs": [
        {
          "output_type": "stream",
          "name": "stdout",
          "text": [
            "<Response [200]>\n"
          ]
        }
      ]
    },
    {
      "cell_type": "markdown",
      "source": [
        "*Using BeautifulSoup to parse the response variable*"
      ],
      "metadata": {
        "id": "x6IItRy7CGhR"
      }
    },
    {
      "cell_type": "code",
      "source": [
        "soup = BeautifulSoup(res.text)\n",
        "soup"
      ],
      "metadata": {
        "id": "5mTZoSBaBCLt"
      },
      "execution_count": null,
      "outputs": []
    },
    {
      "cell_type": "markdown",
      "source": [
        "*Use BeautifulSoup's select function to scrape the desired content*"
      ],
      "metadata": {
        "id": "31AB2tFqCnls"
      }
    },
    {
      "cell_type": "code",
      "source": [
        "housing = soup.select(\".listingH3 , #mainListing .floatR , .listingTit a , .hardShadow\")\n",
        "housing"
      ],
      "metadata": {
        "id": "nGOU3fPIBCOF"
      },
      "execution_count": null,
      "outputs": []
    },
    {
      "cell_type": "markdown",
      "source": [
        "*Scrapping the data of the 1st page*"
      ],
      "metadata": {
        "id": "BicQTPArkH-w"
      }
    },
    {
      "cell_type": "code",
      "source": [
        "# Initialize lists to store data\n",
        "location = []\n",
        "total_rooms= []\n",
        "description = []\n",
        "prices = []\n",
        "\n",
        "for i in range(0, len(housing), 5):\n",
        "    location.append(housing[i+4].get_text(strip=True))\n",
        "    total_rooms.append(housing[i + 3].get_text(strip=True))\n",
        "    description.append(housing[i + 2].get_text(strip=True))\n",
        "    prices.append(housing[i + 1].get_text(strip=True))\n",
        "\n",
        "for i in range(len(location)):\n",
        "    print(f\"Location: {location[i]}\")\n",
        "    print(f\"Total Rooms: {total_rooms[i]}\")\n",
        "    print(f\"Description: {description[i]}\")\n",
        "    print(f\"Price: {prices[i]}\")\n",
        "    print(\"\\n\")"
      ],
      "metadata": {
        "colab": {
          "base_uri": "https://localhost:8080/"
        },
        "id": "gKgeRR4XBCQs",
        "outputId": "608ba3aa-2614-4ffd-a399-04cd2b6b14cc"
      },
      "execution_count": 66,
      "outputs": [
        {
          "output_type": "stream",
          "name": "stdout",
          "text": [
            "Location: Oulfa à\n",
            "   \t\t\t\t\tCasablanca\n",
            "Total Rooms: 3 chambres, 116 m²\n",
            "Description: Duplex deux facades sud/est bien ensoleil...\n",
            "Price: 980 000 000 DH\n",
            "\n",
            "\n",
            "Location: Casablanca Marina à\n",
            "   \t\t\t\t\tCasablanca\n",
            "Total Rooms: 2 chambres, 142 m²\n",
            "Description: Appartement marina vue mer mosquée hassan...\n",
            "Price: 530 000 000 DH\n",
            "\n",
            "\n",
            "Location: Ain Diab à\n",
            "   \t\t\t\t\tCasablanca\n",
            "Total Rooms: 3 chambres, 280 m²\n",
            "Description: Appartement à vendre à Ain Diab. 5 grande...\n",
            "Price: 450 000 000 DH\n",
            "\n",
            "\n",
            "Location: Anfa Supérieur à\n",
            "   \t\t\t\t\tCasablanca\n",
            "Total Rooms: 3 chambres, 110 m²\n",
            "Description: Opportunité à saisir\n",
            "Price: 165 000 000 DH\n",
            "\n",
            "\n",
            "Location: Les Hôpitaux à\n",
            "   \t\t\t\t\tCasablanca\n",
            "Total Rooms: 2 chambres, 113 m²\n",
            "Description: Appartement à vendre à Les Hôpitaux. Surf...\n",
            "Price: 156 000 000 DH\n",
            "\n",
            "\n",
            "Location: Les Hôpitaux à\n",
            "   \t\t\t\t\tCasablanca\n",
            "Total Rooms: 2 chambres, 109 m²\n",
            "Description: Vente d'un bel appartement à Les Hôpitaux...\n",
            "Price: 140 000 000 DH\n",
            "\n",
            "\n",
            "Location: Les princesses à\n",
            "   \t\t\t\t\tCasablanca\n",
            "Total Rooms: 1 chambre, 55 m²\n",
            "Description: Studio meublé\n",
            "Price: 125 000 000 DH\n",
            "\n",
            "\n",
            "Location: Mers Sultan à\n",
            "   \t\t\t\t\tCasablanca\n",
            "Total Rooms: 3 chambres, 120 m²\n",
            "Description: Apparte de haute standing situé au cœur d...\n",
            "Price: 120 000 000 DH\n",
            "\n",
            "\n",
            "Location: à\n",
            "   \t\t\t\t\tOulad Salah\n",
            "Total Rooms: 3 chambres, 173 m²\n",
            "Description: Appartement a al fidae mesure 173 m2 semi...\n",
            "Price: 116 500 000 DH\n",
            "\n",
            "\n",
            "Location: Aïn Sebaâ à\n",
            "   \t\t\t\t\tCasablanca\n",
            "Total Rooms: 3 chambres, 222 m²\n",
            "Description: Bel appartement à vendre à Aïn Sebaâ. Sur...\n",
            "Price: 115 440 000 DH\n",
            "\n",
            "\n",
            "Location: à\n",
            "   \t\t\t\t\tErrahma\n",
            "Total Rooms: 2 chambres, 79 m²\n",
            "Description: Vente d'un bel appartement à Errahma. 2 b...\n",
            "Price: 110 000 000 DH\n",
            "\n",
            "\n",
            "Location: Mers Sultan à\n",
            "   \t\t\t\t\tCasablanca\n",
            "Total Rooms: 2 chambres, 128 m²\n",
            "Description: Vente d'un bel appartement à Mers Sultan...\n",
            "Price: 109 000 000 DH\n",
            "\n",
            "\n",
            "Location: Mers Sultan à\n",
            "   \t\t\t\t\tCasablanca\n",
            "Total Rooms: 2 chambres, 128 m²\n",
            "Description: Appartement à vendre à Mers Sultan. 2 gra...\n",
            "Price: 109 000 000 DH\n",
            "\n",
            "\n",
            "Location: Maârif Extension à\n",
            "   \t\t\t\t\tCasablanca\n",
            "Total Rooms: 3 chambres, 92 m²\n",
            "Description: Vente appart Maarif ex\n",
            "Price: 105 000 000 DH\n",
            "\n",
            "\n",
            "Location: Maârif à\n",
            "   \t\t\t\t\tCasablanca\n",
            "Total Rooms: 2 chambres, 80 m²\n",
            "Description: Appartement a vendre quarthier gautier\n",
            "Price: 100 000 000 DH\n",
            "\n",
            "\n",
            "Location: à\n",
            "   \t\t\t\t\tNouaceur\n",
            "Total Rooms: 3 chambres, 101 m²\n",
            "Description: Appartement à vendre à Nouaceur. Superfic...\n",
            "Price: 98 000 000 DH\n",
            "\n",
            "\n",
            "Location: Bourgogne Ouest à\n",
            "   \t\t\t\t\tCasablanca\n",
            "Total Rooms: 1 chambre, 63 m²\n",
            "Description: Appartement à vendre à Bourgogne Ouest. S...\n",
            "Price: 95 000 000 DH\n",
            "\n",
            "\n",
            "Location: Quartier Industriel à\n",
            "   \t\t\t\t\tBouznika\n",
            "Total Rooms: 2 chambres, 115 m²\n",
            "Description: Appartement a vendre\n",
            "Price: 72 000 000 DH\n",
            "\n",
            "\n",
            "Location: Sidi Othmane à\n",
            "   \t\t\t\t\tCasablanca\n",
            "Total Rooms: 2 chambres, 75 m²\n",
            "Description: Appartement à vendre à rue Abdelkader sah...\n",
            "Price: 70 000 000 DH\n",
            "\n",
            "\n",
            "Location: Oasis à\n",
            "   \t\t\t\t\tCasablanca\n",
            "Total Rooms: 78 chambres, 4264 m²\n",
            "Description: Appartement à vendre à Oasis. 78 pièces...\n",
            "Price: 60 000 000 DH\n",
            "\n",
            "\n",
            "Location: Anfa à\n",
            "   \t\t\t\t\tCasablanca\n",
            "Total Rooms: 5 chambres, 290 m²\n",
            "Description: Appartement 290 m / 5 chambres / double s...\n",
            "Price: 43 000 000 DH\n",
            "\n",
            "\n",
            "Location: Anassi à\n",
            "   \t\t\t\t\tCasablanca\n",
            "Total Rooms: 2 chambres, 52 m²\n",
            "Description: Anassi ahlam sakan\n",
            "Price: 36 000 000 DH\n",
            "\n",
            "\n",
            "Location: Al Qods à\n",
            "   \t\t\t\t\tCasablanca\n",
            "Total Rooms: 3 chambres, 62 m²\n",
            "Description: Appartement a vendre Azhar bernoussi\n",
            "Price: 34 000 000 DH\n",
            "\n",
            "\n",
            "Location: à\n",
            "   \t\t\t\t\tDar Bouazza\n",
            "Total Rooms: 3 chambres, 200 m²\n",
            "Description: Superbe appartement à vendre à Dar Bouazz...\n",
            "Price: 20 000 000 DH\n",
            "\n",
            "\n",
            "Location: Maârif à\n",
            "   \t\t\t\t\tCasablanca\n",
            "Total Rooms: 10 chambres, 972 m²\n",
            "Description: Ancien Immeuble à vendre Casablanca Maari...\n",
            "Price: 20 000 000 DH\n",
            "\n",
            "\n",
            "Location: Maârif à\n",
            "   \t\t\t\t\tCasablanca\n",
            "Total Rooms: 14 chambres, 1350 m²\n",
            "Description: Immeuble neuf 6 locaux et 14 appartements...\n",
            "Price: 20 000 000 DH\n",
            "\n",
            "\n",
            "Location: Gauthier à\n",
            "   \t\t\t\t\tCasablanca\n",
            "Total Rooms: 5 chambres, 897 m²\n",
            "Description: Immeuble Moderne R4 Penthouse Et 2 Appart...\n",
            "Price: 16 500 000 DH\n",
            "\n",
            "\n",
            "Location: Californie à\n",
            "   \t\t\t\t\tCasablanca\n",
            "Total Rooms: 5 chambres, 914 m²\n",
            "Description: Villa luxuieuse quartier qualifornie\n",
            "Price: 16 250 000 DH\n",
            "\n",
            "\n",
            "Location: Al Kodia à\n",
            "   \t\t\t\t\tEl Jadida\n",
            "Total Rooms: 4 chambres, 187 m²\n",
            "Description: Haut villa standig 187m2 a yakout badis 3...\n",
            "Price: 16 200 000 DH\n",
            "\n",
            "\n",
            "Location: Bourgogne Ouest à\n",
            "   \t\t\t\t\tCasablanca\n",
            "Total Rooms: 2 chambres, 110 m²\n",
            "Description: Bel appartement à vendre à Bourgogne Oues...\n",
            "Price: 15 000 000 DH\n",
            "\n",
            "\n",
            "Location: CIL (Hay Salam) à\n",
            "   \t\t\t\t\tCasablanca\n",
            "Total Rooms: 4 chambres, 700 m²\n",
            "Description: Villa moderne 4 chambres piscine au cil\n",
            "Price: 15 000 000 DH\n",
            "\n",
            "\n",
            "Location: Plateau (Al Batha) à\n",
            "   \t\t\t\t\tCasablanca\n",
            "Total Rooms: 4 chambres, 423 m²\n",
            "Description: Bel appartement à vendre à Plateau (Al Ba...\n",
            "Price: 14 805 000 DH\n",
            "\n",
            "\n",
            "Location: Racine à\n",
            "   \t\t\t\t\tCasablanca\n",
            "Total Rooms: 5 chambres, 509 m²\n",
            "Description: Vente Penthouse Casablanca Racine\n",
            "Price: 13 000 000 DH\n",
            "\n",
            "\n"
          ]
        }
      ]
    },
    {
      "cell_type": "code",
      "source": [
        "# for price in prices:\n",
        "#   print(price)\n",
        "len(prices)"
      ],
      "metadata": {
        "colab": {
          "base_uri": "https://localhost:8080/"
        },
        "id": "c6P2tEHcBCUU",
        "outputId": "e64da77b-2635-4f30-a742-071e5e7b52dc"
      },
      "execution_count": 67,
      "outputs": [
        {
          "output_type": "execute_result",
          "data": {
            "text/plain": [
              "33"
            ]
          },
          "metadata": {},
          "execution_count": 67
        }
      ]
    },
    {
      "cell_type": "markdown",
      "source": [
        "*scrape the data of all the pages*"
      ],
      "metadata": {
        "id": "JY1HKRp8kS28"
      }
    },
    {
      "cell_type": "code",
      "source": [
        "base_url = \"https://www.mubawab.ma/fr/scr/casablanca-settat/appartements-a-vendre:o:d:p\"\n",
        "housing = soup.select(\".listingH3 , #mainListing .floatR , .listingTit a , .hardShadow\")\n",
        "number_of_pages = 18\n",
        "for i in range(2,number_of_pages+1):\n",
        "    url = f\"{base_url}:{i}\" # URL Manupilation for each page\n",
        "    res = requests.get(url)\n",
        "    soup = BeautifulSoup(res.text)\n",
        "    for j in range(0, len(housing), 5):\n",
        "      prices.append(housing[j + 1].get_text(strip=True))\n",
        "      description.append(housing[j + 2].get_text(strip=True))\n",
        "      total_rooms.append(housing[j + 3].get_text(strip=True))\n",
        "      location.append(housing[j+4].get_text(strip=True))"
      ],
      "metadata": {
        "colab": {
          "base_uri": "https://localhost:8080/"
        },
        "id": "atS0N_ZKVn-m",
        "outputId": "310b7b5c-e295-479d-f4a9-ba50ee5ed8d4"
      },
      "execution_count": 97,
      "outputs": [
        {
          "output_type": "stream",
          "name": "stderr",
          "text": [
            "/usr/local/lib/python3.10/dist-packages/bs4/builder/__init__.py:545: XMLParsedAsHTMLWarning: It looks like you're parsing an XML document using an HTML parser. If this really is an HTML document (maybe it's XHTML?), you can ignore or filter this warning. If it's XML, you should know that using an XML parser will be more reliable. To parse this document as XML, make sure you have the lxml package installed, and pass the keyword argument `features=\"xml\"` into the BeautifulSoup constructor.\n",
            "  warnings.warn(\n"
          ]
        }
      ]
    },
    {
      "cell_type": "code",
      "source": [
        "# for i in range(len(location)):\n",
        "#     print(f\"Location: {location[i]}\")\n",
        "#     print(f\"Total Rooms: {total_rooms[i]}\")\n",
        "#     print(f\"Description: {description[i]}\")\n",
        "#     print(f\"Price: {prices[i]}\")\n",
        "#     print(\"\\n\")\n",
        "\n",
        "len(prices)"
      ],
      "metadata": {
        "colab": {
          "base_uri": "https://localhost:8080/"
        },
        "id": "Sd5B2nusn2jz",
        "outputId": "d97525c5-5394-482d-aa54-95c2d9c10d0c"
      },
      "execution_count": 98,
      "outputs": [
        {
          "output_type": "execute_result",
          "data": {
            "text/plain": [
              "1155"
            ]
          },
          "metadata": {},
          "execution_count": 98
        }
      ]
    },
    {
      "cell_type": "code",
      "source": [
        "# Function to convert a price string to an integer\n",
        "def convert_price(price_str):\n",
        "    try:\n",
        "        # Remove non-breaking space characters and other non-numeric characters\n",
        "        cleaned_price_str = ''.join(filter(str.isdigit, price_str))\n",
        "        return int(cleaned_price_str)\n",
        "    except ValueError:\n",
        "        return float('inf')  # Handle cases where the price is not a valid number\n",
        "\n",
        "# Convert prices to a list of tuples (original index, price) for sorting\n",
        "prices_with_indices = list(enumerate(prices))\n",
        "\n",
        "# Sort the list of tuples based on the price\n",
        "sorted_prices_with_indices = sorted(prices_with_indices, key=lambda x: convert_price(x[1]))\n",
        "\n",
        "# Display the sorted prices\n",
        "for index, price in sorted_prices_with_indices:\n",
        "    print(f\"{index + 1}. {price}\")"
      ],
      "metadata": {
        "id": "Y9jrF48zCpb-"
      },
      "execution_count": null,
      "outputs": []
    },
    {
      "cell_type": "code",
      "source": [
        "for total_room in total_rooms:\n",
        "  print(total_room)"
      ],
      "metadata": {
        "id": "_TTK0ENeFy2m"
      },
      "execution_count": null,
      "outputs": []
    },
    {
      "cell_type": "code",
      "source": [
        "def extract_bedrooms_area(info_str):\n",
        "    # Use regular expression to extract the number of bedrooms and area\n",
        "    match = re.search(r'(\\d+)?\\s*chambres,\\s*(\\d+)?\\s*m²', info_str)\n",
        "\n",
        "    # Extract bedrooms and area or return None for missing values\n",
        "    bedrooms = match.group(1) if match and match.group(1) else None\n",
        "    area = match.group(2) if match and match.group(2) else None\n",
        "\n",
        "    return bedrooms, area\n",
        "bedrooms_list, area_list = zip(*[extract_bedrooms_area(info) for info in total_rooms])\n"
      ],
      "metadata": {
        "id": "bSD1JG5yJQZZ"
      },
      "execution_count": 111,
      "outputs": []
    },
    {
      "cell_type": "code",
      "source": [
        "area_list"
      ],
      "metadata": {
        "id": "DjGSPDk73BFO"
      },
      "execution_count": null,
      "outputs": []
    },
    {
      "cell_type": "code",
      "source": [
        "import re\n",
        "# Function to extract numerical values from the price string\n",
        "def extract_numerical_value(price_str):\n",
        "    # Use regular expression to extract digits and convert to an integer\n",
        "    match = re.search(r'\\d+', price_str)\n",
        "    return int(match.group()) if match else None\n",
        "\n",
        "# Extract numerical values from prices\n",
        "numeric_prices = [extract_numerical_value(price) for price in prices]"
      ],
      "metadata": {
        "id": "9hKhP1QaLaVW"
      },
      "execution_count": 102,
      "outputs": []
    },
    {
      "cell_type": "code",
      "source": [
        "# Function to extract numeric values from the num_rooms string\n",
        "def extract_numeric_rooms(num_rooms_str):\n",
        "    if isinstance(num_rooms_str, str):\n",
        "        # Use regular expression to extract digits and convert to an integer\n",
        "        match = re.search(r'\\d+', num_rooms_str)\n",
        "        return int(match.group()) if match else None\n",
        "    else:\n",
        "        return None\n",
        "\n",
        "\n",
        "# Extract numeric values from num_rooms\n",
        "numeric_rooms = [extract_numeric_rooms(room) for room in bedrooms_list]"
      ],
      "metadata": {
        "id": "gKeQ9DIyLxl0"
      },
      "execution_count": 114,
      "outputs": []
    },
    {
      "cell_type": "code",
      "source": [],
      "metadata": {
        "id": "eEukNe2f3Owo"
      },
      "execution_count": null,
      "outputs": []
    },
    {
      "cell_type": "code",
      "source": [
        "# Function to extract numeric values from the area string\n",
        "def extract_numeric_area(area_str):\n",
        "    if isinstance(area_str, str):\n",
        "        # Use regular expression to extract digits and convert to an integer\n",
        "        match = re.search(r'\\d+', area_str)\n",
        "        return int(match.group()) if match else None\n",
        "    else:\n",
        "        return None\n",
        "\n",
        "# Extract numeric values from area\n",
        "numeric_area = [extract_numeric_area(a) for a in area_list]"
      ],
      "metadata": {
        "id": "te_63YVqOE37"
      },
      "execution_count": 115,
      "outputs": []
    },
    {
      "cell_type": "code",
      "source": [
        "print(numeric_area[98])\n",
        "print(len(location))\n",
        "print(len(numeric_rooms))\n",
        "print(len(numeric_area))\n",
        "print(len(numeric_prices))"
      ],
      "metadata": {
        "colab": {
          "base_uri": "https://localhost:8080/"
        },
        "id": "OD3PgS8nzUXX",
        "outputId": "41dc5438-1244-47fa-c8a1-3cd63dd86873"
      },
      "execution_count": 116,
      "outputs": [
        {
          "output_type": "stream",
          "name": "stdout",
          "text": [
            "509\n",
            "1155\n",
            "1155\n",
            "1155\n",
            "1155\n"
          ]
        }
      ]
    },
    {
      "cell_type": "code",
      "source": [
        "import pandas as pd\n",
        "data = {\n",
        "    'Location' : location,\n",
        "    'Num_rooms' : numeric_rooms,\n",
        "    'House_area(m²)' : numeric_area,\n",
        "    'Price(DH)' : numeric_prices,\n",
        "}\n",
        "housing = pd.DataFrame(data)"
      ],
      "metadata": {
        "id": "yCpOG6pXGJq_"
      },
      "execution_count": 118,
      "outputs": []
    },
    {
      "cell_type": "code",
      "source": [
        "sorted_housing = housing.sort_values(by='Price(DH)', ascending = False)\n",
        "sorted_housing"
      ],
      "metadata": {
        "colab": {
          "base_uri": "https://localhost:8080/",
          "height": 424
        },
        "id": "Gv0vKYUlOjSK",
        "outputId": "d6c18558-9593-4958-ae03-52e1c6d06992"
      },
      "execution_count": 119,
      "outputs": [
        {
          "output_type": "execute_result",
          "data": {
            "text/plain": [
              "                                 Location  Num_rooms  House_area(m²)  \\\n",
              "0        Oulfa à\\n   \\t\\t\\t\\t\\tCasablanca        3.0           116.0   \n",
              "396      Oulfa à\\n   \\t\\t\\t\\t\\tCasablanca        3.0           116.0   \n",
              "528      Oulfa à\\n   \\t\\t\\t\\t\\tCasablanca        3.0           116.0   \n",
              "66       Oulfa à\\n   \\t\\t\\t\\t\\tCasablanca        3.0           116.0   \n",
              "495      Oulfa à\\n   \\t\\t\\t\\t\\tCasablanca        3.0           116.0   \n",
              "...                                   ...        ...             ...   \n",
              "774     Maârif à\\n   \\t\\t\\t\\t\\tCasablanca        3.0           173.0   \n",
              "773       Anfa à\\n   \\t\\t\\t\\t\\tCasablanca        2.0           126.0   \n",
              "772           à\\n   \\t\\t\\t\\t\\tDar Bouazza        3.0           318.0   \n",
              "771           à\\n   \\t\\t\\t\\t\\tDar Bouazza        3.0           358.0   \n",
              "1154  Gauthier à\\n   \\t\\t\\t\\t\\tCasablanca        4.0           217.0   \n",
              "\n",
              "      Price(DH)  \n",
              "0           980  \n",
              "396         980  \n",
              "528         980  \n",
              "66          980  \n",
              "495         980  \n",
              "...         ...  \n",
              "774           3  \n",
              "773           3  \n",
              "772           3  \n",
              "771           3  \n",
              "1154          3  \n",
              "\n",
              "[1155 rows x 4 columns]"
            ],
            "text/html": [
              "\n",
              "  <div id=\"df-4b55616e-f731-4417-a6d6-53c739593e42\" class=\"colab-df-container\">\n",
              "    <div>\n",
              "<style scoped>\n",
              "    .dataframe tbody tr th:only-of-type {\n",
              "        vertical-align: middle;\n",
              "    }\n",
              "\n",
              "    .dataframe tbody tr th {\n",
              "        vertical-align: top;\n",
              "    }\n",
              "\n",
              "    .dataframe thead th {\n",
              "        text-align: right;\n",
              "    }\n",
              "</style>\n",
              "<table border=\"1\" class=\"dataframe\">\n",
              "  <thead>\n",
              "    <tr style=\"text-align: right;\">\n",
              "      <th></th>\n",
              "      <th>Location</th>\n",
              "      <th>Num_rooms</th>\n",
              "      <th>House_area(m²)</th>\n",
              "      <th>Price(DH)</th>\n",
              "    </tr>\n",
              "  </thead>\n",
              "  <tbody>\n",
              "    <tr>\n",
              "      <th>0</th>\n",
              "      <td>Oulfa à\\n   \\t\\t\\t\\t\\tCasablanca</td>\n",
              "      <td>3.0</td>\n",
              "      <td>116.0</td>\n",
              "      <td>980</td>\n",
              "    </tr>\n",
              "    <tr>\n",
              "      <th>396</th>\n",
              "      <td>Oulfa à\\n   \\t\\t\\t\\t\\tCasablanca</td>\n",
              "      <td>3.0</td>\n",
              "      <td>116.0</td>\n",
              "      <td>980</td>\n",
              "    </tr>\n",
              "    <tr>\n",
              "      <th>528</th>\n",
              "      <td>Oulfa à\\n   \\t\\t\\t\\t\\tCasablanca</td>\n",
              "      <td>3.0</td>\n",
              "      <td>116.0</td>\n",
              "      <td>980</td>\n",
              "    </tr>\n",
              "    <tr>\n",
              "      <th>66</th>\n",
              "      <td>Oulfa à\\n   \\t\\t\\t\\t\\tCasablanca</td>\n",
              "      <td>3.0</td>\n",
              "      <td>116.0</td>\n",
              "      <td>980</td>\n",
              "    </tr>\n",
              "    <tr>\n",
              "      <th>495</th>\n",
              "      <td>Oulfa à\\n   \\t\\t\\t\\t\\tCasablanca</td>\n",
              "      <td>3.0</td>\n",
              "      <td>116.0</td>\n",
              "      <td>980</td>\n",
              "    </tr>\n",
              "    <tr>\n",
              "      <th>...</th>\n",
              "      <td>...</td>\n",
              "      <td>...</td>\n",
              "      <td>...</td>\n",
              "      <td>...</td>\n",
              "    </tr>\n",
              "    <tr>\n",
              "      <th>774</th>\n",
              "      <td>Maârif à\\n   \\t\\t\\t\\t\\tCasablanca</td>\n",
              "      <td>3.0</td>\n",
              "      <td>173.0</td>\n",
              "      <td>3</td>\n",
              "    </tr>\n",
              "    <tr>\n",
              "      <th>773</th>\n",
              "      <td>Anfa à\\n   \\t\\t\\t\\t\\tCasablanca</td>\n",
              "      <td>2.0</td>\n",
              "      <td>126.0</td>\n",
              "      <td>3</td>\n",
              "    </tr>\n",
              "    <tr>\n",
              "      <th>772</th>\n",
              "      <td>à\\n   \\t\\t\\t\\t\\tDar Bouazza</td>\n",
              "      <td>3.0</td>\n",
              "      <td>318.0</td>\n",
              "      <td>3</td>\n",
              "    </tr>\n",
              "    <tr>\n",
              "      <th>771</th>\n",
              "      <td>à\\n   \\t\\t\\t\\t\\tDar Bouazza</td>\n",
              "      <td>3.0</td>\n",
              "      <td>358.0</td>\n",
              "      <td>3</td>\n",
              "    </tr>\n",
              "    <tr>\n",
              "      <th>1154</th>\n",
              "      <td>Gauthier à\\n   \\t\\t\\t\\t\\tCasablanca</td>\n",
              "      <td>4.0</td>\n",
              "      <td>217.0</td>\n",
              "      <td>3</td>\n",
              "    </tr>\n",
              "  </tbody>\n",
              "</table>\n",
              "<p>1155 rows × 4 columns</p>\n",
              "</div>\n",
              "    <div class=\"colab-df-buttons\">\n",
              "\n",
              "  <div class=\"colab-df-container\">\n",
              "    <button class=\"colab-df-convert\" onclick=\"convertToInteractive('df-4b55616e-f731-4417-a6d6-53c739593e42')\"\n",
              "            title=\"Convert this dataframe to an interactive table.\"\n",
              "            style=\"display:none;\">\n",
              "\n",
              "  <svg xmlns=\"http://www.w3.org/2000/svg\" height=\"24px\" viewBox=\"0 -960 960 960\">\n",
              "    <path d=\"M120-120v-720h720v720H120Zm60-500h600v-160H180v160Zm220 220h160v-160H400v160Zm0 220h160v-160H400v160ZM180-400h160v-160H180v160Zm440 0h160v-160H620v160ZM180-180h160v-160H180v160Zm440 0h160v-160H620v160Z\"/>\n",
              "  </svg>\n",
              "    </button>\n",
              "\n",
              "  <style>\n",
              "    .colab-df-container {\n",
              "      display:flex;\n",
              "      gap: 12px;\n",
              "    }\n",
              "\n",
              "    .colab-df-convert {\n",
              "      background-color: #E8F0FE;\n",
              "      border: none;\n",
              "      border-radius: 50%;\n",
              "      cursor: pointer;\n",
              "      display: none;\n",
              "      fill: #1967D2;\n",
              "      height: 32px;\n",
              "      padding: 0 0 0 0;\n",
              "      width: 32px;\n",
              "    }\n",
              "\n",
              "    .colab-df-convert:hover {\n",
              "      background-color: #E2EBFA;\n",
              "      box-shadow: 0px 1px 2px rgba(60, 64, 67, 0.3), 0px 1px 3px 1px rgba(60, 64, 67, 0.15);\n",
              "      fill: #174EA6;\n",
              "    }\n",
              "\n",
              "    .colab-df-buttons div {\n",
              "      margin-bottom: 4px;\n",
              "    }\n",
              "\n",
              "    [theme=dark] .colab-df-convert {\n",
              "      background-color: #3B4455;\n",
              "      fill: #D2E3FC;\n",
              "    }\n",
              "\n",
              "    [theme=dark] .colab-df-convert:hover {\n",
              "      background-color: #434B5C;\n",
              "      box-shadow: 0px 1px 3px 1px rgba(0, 0, 0, 0.15);\n",
              "      filter: drop-shadow(0px 1px 2px rgba(0, 0, 0, 0.3));\n",
              "      fill: #FFFFFF;\n",
              "    }\n",
              "  </style>\n",
              "\n",
              "    <script>\n",
              "      const buttonEl =\n",
              "        document.querySelector('#df-4b55616e-f731-4417-a6d6-53c739593e42 button.colab-df-convert');\n",
              "      buttonEl.style.display =\n",
              "        google.colab.kernel.accessAllowed ? 'block' : 'none';\n",
              "\n",
              "      async function convertToInteractive(key) {\n",
              "        const element = document.querySelector('#df-4b55616e-f731-4417-a6d6-53c739593e42');\n",
              "        const dataTable =\n",
              "          await google.colab.kernel.invokeFunction('convertToInteractive',\n",
              "                                                    [key], {});\n",
              "        if (!dataTable) return;\n",
              "\n",
              "        const docLinkHtml = 'Like what you see? Visit the ' +\n",
              "          '<a target=\"_blank\" href=https://colab.research.google.com/notebooks/data_table.ipynb>data table notebook</a>'\n",
              "          + ' to learn more about interactive tables.';\n",
              "        element.innerHTML = '';\n",
              "        dataTable['output_type'] = 'display_data';\n",
              "        await google.colab.output.renderOutput(dataTable, element);\n",
              "        const docLink = document.createElement('div');\n",
              "        docLink.innerHTML = docLinkHtml;\n",
              "        element.appendChild(docLink);\n",
              "      }\n",
              "    </script>\n",
              "  </div>\n",
              "\n",
              "\n",
              "<div id=\"df-d7725f26-c69c-4b8d-a030-9677bf0cd24c\">\n",
              "  <button class=\"colab-df-quickchart\" onclick=\"quickchart('df-d7725f26-c69c-4b8d-a030-9677bf0cd24c')\"\n",
              "            title=\"Suggest charts\"\n",
              "            style=\"display:none;\">\n",
              "\n",
              "<svg xmlns=\"http://www.w3.org/2000/svg\" height=\"24px\"viewBox=\"0 0 24 24\"\n",
              "     width=\"24px\">\n",
              "    <g>\n",
              "        <path d=\"M19 3H5c-1.1 0-2 .9-2 2v14c0 1.1.9 2 2 2h14c1.1 0 2-.9 2-2V5c0-1.1-.9-2-2-2zM9 17H7v-7h2v7zm4 0h-2V7h2v10zm4 0h-2v-4h2v4z\"/>\n",
              "    </g>\n",
              "</svg>\n",
              "  </button>\n",
              "\n",
              "<style>\n",
              "  .colab-df-quickchart {\n",
              "      --bg-color: #E8F0FE;\n",
              "      --fill-color: #1967D2;\n",
              "      --hover-bg-color: #E2EBFA;\n",
              "      --hover-fill-color: #174EA6;\n",
              "      --disabled-fill-color: #AAA;\n",
              "      --disabled-bg-color: #DDD;\n",
              "  }\n",
              "\n",
              "  [theme=dark] .colab-df-quickchart {\n",
              "      --bg-color: #3B4455;\n",
              "      --fill-color: #D2E3FC;\n",
              "      --hover-bg-color: #434B5C;\n",
              "      --hover-fill-color: #FFFFFF;\n",
              "      --disabled-bg-color: #3B4455;\n",
              "      --disabled-fill-color: #666;\n",
              "  }\n",
              "\n",
              "  .colab-df-quickchart {\n",
              "    background-color: var(--bg-color);\n",
              "    border: none;\n",
              "    border-radius: 50%;\n",
              "    cursor: pointer;\n",
              "    display: none;\n",
              "    fill: var(--fill-color);\n",
              "    height: 32px;\n",
              "    padding: 0;\n",
              "    width: 32px;\n",
              "  }\n",
              "\n",
              "  .colab-df-quickchart:hover {\n",
              "    background-color: var(--hover-bg-color);\n",
              "    box-shadow: 0 1px 2px rgba(60, 64, 67, 0.3), 0 1px 3px 1px rgba(60, 64, 67, 0.15);\n",
              "    fill: var(--button-hover-fill-color);\n",
              "  }\n",
              "\n",
              "  .colab-df-quickchart-complete:disabled,\n",
              "  .colab-df-quickchart-complete:disabled:hover {\n",
              "    background-color: var(--disabled-bg-color);\n",
              "    fill: var(--disabled-fill-color);\n",
              "    box-shadow: none;\n",
              "  }\n",
              "\n",
              "  .colab-df-spinner {\n",
              "    border: 2px solid var(--fill-color);\n",
              "    border-color: transparent;\n",
              "    border-bottom-color: var(--fill-color);\n",
              "    animation:\n",
              "      spin 1s steps(1) infinite;\n",
              "  }\n",
              "\n",
              "  @keyframes spin {\n",
              "    0% {\n",
              "      border-color: transparent;\n",
              "      border-bottom-color: var(--fill-color);\n",
              "      border-left-color: var(--fill-color);\n",
              "    }\n",
              "    20% {\n",
              "      border-color: transparent;\n",
              "      border-left-color: var(--fill-color);\n",
              "      border-top-color: var(--fill-color);\n",
              "    }\n",
              "    30% {\n",
              "      border-color: transparent;\n",
              "      border-left-color: var(--fill-color);\n",
              "      border-top-color: var(--fill-color);\n",
              "      border-right-color: var(--fill-color);\n",
              "    }\n",
              "    40% {\n",
              "      border-color: transparent;\n",
              "      border-right-color: var(--fill-color);\n",
              "      border-top-color: var(--fill-color);\n",
              "    }\n",
              "    60% {\n",
              "      border-color: transparent;\n",
              "      border-right-color: var(--fill-color);\n",
              "    }\n",
              "    80% {\n",
              "      border-color: transparent;\n",
              "      border-right-color: var(--fill-color);\n",
              "      border-bottom-color: var(--fill-color);\n",
              "    }\n",
              "    90% {\n",
              "      border-color: transparent;\n",
              "      border-bottom-color: var(--fill-color);\n",
              "    }\n",
              "  }\n",
              "</style>\n",
              "\n",
              "  <script>\n",
              "    async function quickchart(key) {\n",
              "      const quickchartButtonEl =\n",
              "        document.querySelector('#' + key + ' button');\n",
              "      quickchartButtonEl.disabled = true;  // To prevent multiple clicks.\n",
              "      quickchartButtonEl.classList.add('colab-df-spinner');\n",
              "      try {\n",
              "        const charts = await google.colab.kernel.invokeFunction(\n",
              "            'suggestCharts', [key], {});\n",
              "      } catch (error) {\n",
              "        console.error('Error during call to suggestCharts:', error);\n",
              "      }\n",
              "      quickchartButtonEl.classList.remove('colab-df-spinner');\n",
              "      quickchartButtonEl.classList.add('colab-df-quickchart-complete');\n",
              "    }\n",
              "    (() => {\n",
              "      let quickchartButtonEl =\n",
              "        document.querySelector('#df-d7725f26-c69c-4b8d-a030-9677bf0cd24c button');\n",
              "      quickchartButtonEl.style.display =\n",
              "        google.colab.kernel.accessAllowed ? 'block' : 'none';\n",
              "    })();\n",
              "  </script>\n",
              "</div>\n",
              "    </div>\n",
              "  </div>\n"
            ]
          },
          "metadata": {},
          "execution_count": 119
        }
      ]
    },
    {
      "cell_type": "code",
      "source": [
        "housing[housing['Location'] == \".\"]"
      ],
      "metadata": {
        "colab": {
          "base_uri": "https://localhost:8080/",
          "height": 53
        },
        "id": "CqmUzNXKfcuB",
        "outputId": "8bd288f3-d213-4a09-bcd0-f65462c6bc03"
      },
      "execution_count": 120,
      "outputs": [
        {
          "output_type": "execute_result",
          "data": {
            "text/plain": [
              "Empty DataFrame\n",
              "Columns: [Location, Num_rooms, House_area(m²), Price(DH)]\n",
              "Index: []"
            ],
            "text/html": [
              "\n",
              "  <div id=\"df-f6ef4325-7068-4497-aaa7-5cd11b4467e9\" class=\"colab-df-container\">\n",
              "    <div>\n",
              "<style scoped>\n",
              "    .dataframe tbody tr th:only-of-type {\n",
              "        vertical-align: middle;\n",
              "    }\n",
              "\n",
              "    .dataframe tbody tr th {\n",
              "        vertical-align: top;\n",
              "    }\n",
              "\n",
              "    .dataframe thead th {\n",
              "        text-align: right;\n",
              "    }\n",
              "</style>\n",
              "<table border=\"1\" class=\"dataframe\">\n",
              "  <thead>\n",
              "    <tr style=\"text-align: right;\">\n",
              "      <th></th>\n",
              "      <th>Location</th>\n",
              "      <th>Num_rooms</th>\n",
              "      <th>House_area(m²)</th>\n",
              "      <th>Price(DH)</th>\n",
              "    </tr>\n",
              "  </thead>\n",
              "  <tbody>\n",
              "  </tbody>\n",
              "</table>\n",
              "</div>\n",
              "    <div class=\"colab-df-buttons\">\n",
              "\n",
              "  <div class=\"colab-df-container\">\n",
              "    <button class=\"colab-df-convert\" onclick=\"convertToInteractive('df-f6ef4325-7068-4497-aaa7-5cd11b4467e9')\"\n",
              "            title=\"Convert this dataframe to an interactive table.\"\n",
              "            style=\"display:none;\">\n",
              "\n",
              "  <svg xmlns=\"http://www.w3.org/2000/svg\" height=\"24px\" viewBox=\"0 -960 960 960\">\n",
              "    <path d=\"M120-120v-720h720v720H120Zm60-500h600v-160H180v160Zm220 220h160v-160H400v160Zm0 220h160v-160H400v160ZM180-400h160v-160H180v160Zm440 0h160v-160H620v160ZM180-180h160v-160H180v160Zm440 0h160v-160H620v160Z\"/>\n",
              "  </svg>\n",
              "    </button>\n",
              "\n",
              "  <style>\n",
              "    .colab-df-container {\n",
              "      display:flex;\n",
              "      gap: 12px;\n",
              "    }\n",
              "\n",
              "    .colab-df-convert {\n",
              "      background-color: #E8F0FE;\n",
              "      border: none;\n",
              "      border-radius: 50%;\n",
              "      cursor: pointer;\n",
              "      display: none;\n",
              "      fill: #1967D2;\n",
              "      height: 32px;\n",
              "      padding: 0 0 0 0;\n",
              "      width: 32px;\n",
              "    }\n",
              "\n",
              "    .colab-df-convert:hover {\n",
              "      background-color: #E2EBFA;\n",
              "      box-shadow: 0px 1px 2px rgba(60, 64, 67, 0.3), 0px 1px 3px 1px rgba(60, 64, 67, 0.15);\n",
              "      fill: #174EA6;\n",
              "    }\n",
              "\n",
              "    .colab-df-buttons div {\n",
              "      margin-bottom: 4px;\n",
              "    }\n",
              "\n",
              "    [theme=dark] .colab-df-convert {\n",
              "      background-color: #3B4455;\n",
              "      fill: #D2E3FC;\n",
              "    }\n",
              "\n",
              "    [theme=dark] .colab-df-convert:hover {\n",
              "      background-color: #434B5C;\n",
              "      box-shadow: 0px 1px 3px 1px rgba(0, 0, 0, 0.15);\n",
              "      filter: drop-shadow(0px 1px 2px rgba(0, 0, 0, 0.3));\n",
              "      fill: #FFFFFF;\n",
              "    }\n",
              "  </style>\n",
              "\n",
              "    <script>\n",
              "      const buttonEl =\n",
              "        document.querySelector('#df-f6ef4325-7068-4497-aaa7-5cd11b4467e9 button.colab-df-convert');\n",
              "      buttonEl.style.display =\n",
              "        google.colab.kernel.accessAllowed ? 'block' : 'none';\n",
              "\n",
              "      async function convertToInteractive(key) {\n",
              "        const element = document.querySelector('#df-f6ef4325-7068-4497-aaa7-5cd11b4467e9');\n",
              "        const dataTable =\n",
              "          await google.colab.kernel.invokeFunction('convertToInteractive',\n",
              "                                                    [key], {});\n",
              "        if (!dataTable) return;\n",
              "\n",
              "        const docLinkHtml = 'Like what you see? Visit the ' +\n",
              "          '<a target=\"_blank\" href=https://colab.research.google.com/notebooks/data_table.ipynb>data table notebook</a>'\n",
              "          + ' to learn more about interactive tables.';\n",
              "        element.innerHTML = '';\n",
              "        dataTable['output_type'] = 'display_data';\n",
              "        await google.colab.output.renderOutput(dataTable, element);\n",
              "        const docLink = document.createElement('div');\n",
              "        docLink.innerHTML = docLinkHtml;\n",
              "        element.appendChild(docLink);\n",
              "      }\n",
              "    </script>\n",
              "  </div>\n",
              "\n",
              "    </div>\n",
              "  </div>\n"
            ]
          },
          "metadata": {},
          "execution_count": 120
        }
      ]
    },
    {
      "cell_type": "code",
      "source": [
        "housing['Location']  = housing['Location'].str.split('\\n', expand=True)[0].str.strip()\n",
        "housing['Location']  = housing['Location'].str.replace('à','\\n').str.strip()\n",
        "\n",
        "housing.head()"
      ],
      "metadata": {
        "colab": {
          "base_uri": "https://localhost:8080/",
          "height": 206
        },
        "id": "5-F0sOvVQIoH",
        "outputId": "ddb3f1d3-79cf-4c72-e441-4a69cd654650"
      },
      "execution_count": 121,
      "outputs": [
        {
          "output_type": "execute_result",
          "data": {
            "text/plain": [
              "            Location  Num_rooms  House_area(m²)  Price(DH)\n",
              "0              Oulfa        3.0           116.0        980\n",
              "1  Casablanca Marina        2.0           142.0        530\n",
              "2           Ain Diab        3.0           280.0        450\n",
              "3     Anfa Supérieur        3.0           110.0        165\n",
              "4       Les Hôpitaux        2.0           113.0        156"
            ],
            "text/html": [
              "\n",
              "  <div id=\"df-c9b623e8-0dce-4ebd-a6f1-9615e1d9da2e\" class=\"colab-df-container\">\n",
              "    <div>\n",
              "<style scoped>\n",
              "    .dataframe tbody tr th:only-of-type {\n",
              "        vertical-align: middle;\n",
              "    }\n",
              "\n",
              "    .dataframe tbody tr th {\n",
              "        vertical-align: top;\n",
              "    }\n",
              "\n",
              "    .dataframe thead th {\n",
              "        text-align: right;\n",
              "    }\n",
              "</style>\n",
              "<table border=\"1\" class=\"dataframe\">\n",
              "  <thead>\n",
              "    <tr style=\"text-align: right;\">\n",
              "      <th></th>\n",
              "      <th>Location</th>\n",
              "      <th>Num_rooms</th>\n",
              "      <th>House_area(m²)</th>\n",
              "      <th>Price(DH)</th>\n",
              "    </tr>\n",
              "  </thead>\n",
              "  <tbody>\n",
              "    <tr>\n",
              "      <th>0</th>\n",
              "      <td>Oulfa</td>\n",
              "      <td>3.0</td>\n",
              "      <td>116.0</td>\n",
              "      <td>980</td>\n",
              "    </tr>\n",
              "    <tr>\n",
              "      <th>1</th>\n",
              "      <td>Casablanca Marina</td>\n",
              "      <td>2.0</td>\n",
              "      <td>142.0</td>\n",
              "      <td>530</td>\n",
              "    </tr>\n",
              "    <tr>\n",
              "      <th>2</th>\n",
              "      <td>Ain Diab</td>\n",
              "      <td>3.0</td>\n",
              "      <td>280.0</td>\n",
              "      <td>450</td>\n",
              "    </tr>\n",
              "    <tr>\n",
              "      <th>3</th>\n",
              "      <td>Anfa Supérieur</td>\n",
              "      <td>3.0</td>\n",
              "      <td>110.0</td>\n",
              "      <td>165</td>\n",
              "    </tr>\n",
              "    <tr>\n",
              "      <th>4</th>\n",
              "      <td>Les Hôpitaux</td>\n",
              "      <td>2.0</td>\n",
              "      <td>113.0</td>\n",
              "      <td>156</td>\n",
              "    </tr>\n",
              "  </tbody>\n",
              "</table>\n",
              "</div>\n",
              "    <div class=\"colab-df-buttons\">\n",
              "\n",
              "  <div class=\"colab-df-container\">\n",
              "    <button class=\"colab-df-convert\" onclick=\"convertToInteractive('df-c9b623e8-0dce-4ebd-a6f1-9615e1d9da2e')\"\n",
              "            title=\"Convert this dataframe to an interactive table.\"\n",
              "            style=\"display:none;\">\n",
              "\n",
              "  <svg xmlns=\"http://www.w3.org/2000/svg\" height=\"24px\" viewBox=\"0 -960 960 960\">\n",
              "    <path d=\"M120-120v-720h720v720H120Zm60-500h600v-160H180v160Zm220 220h160v-160H400v160Zm0 220h160v-160H400v160ZM180-400h160v-160H180v160Zm440 0h160v-160H620v160ZM180-180h160v-160H180v160Zm440 0h160v-160H620v160Z\"/>\n",
              "  </svg>\n",
              "    </button>\n",
              "\n",
              "  <style>\n",
              "    .colab-df-container {\n",
              "      display:flex;\n",
              "      gap: 12px;\n",
              "    }\n",
              "\n",
              "    .colab-df-convert {\n",
              "      background-color: #E8F0FE;\n",
              "      border: none;\n",
              "      border-radius: 50%;\n",
              "      cursor: pointer;\n",
              "      display: none;\n",
              "      fill: #1967D2;\n",
              "      height: 32px;\n",
              "      padding: 0 0 0 0;\n",
              "      width: 32px;\n",
              "    }\n",
              "\n",
              "    .colab-df-convert:hover {\n",
              "      background-color: #E2EBFA;\n",
              "      box-shadow: 0px 1px 2px rgba(60, 64, 67, 0.3), 0px 1px 3px 1px rgba(60, 64, 67, 0.15);\n",
              "      fill: #174EA6;\n",
              "    }\n",
              "\n",
              "    .colab-df-buttons div {\n",
              "      margin-bottom: 4px;\n",
              "    }\n",
              "\n",
              "    [theme=dark] .colab-df-convert {\n",
              "      background-color: #3B4455;\n",
              "      fill: #D2E3FC;\n",
              "    }\n",
              "\n",
              "    [theme=dark] .colab-df-convert:hover {\n",
              "      background-color: #434B5C;\n",
              "      box-shadow: 0px 1px 3px 1px rgba(0, 0, 0, 0.15);\n",
              "      filter: drop-shadow(0px 1px 2px rgba(0, 0, 0, 0.3));\n",
              "      fill: #FFFFFF;\n",
              "    }\n",
              "  </style>\n",
              "\n",
              "    <script>\n",
              "      const buttonEl =\n",
              "        document.querySelector('#df-c9b623e8-0dce-4ebd-a6f1-9615e1d9da2e button.colab-df-convert');\n",
              "      buttonEl.style.display =\n",
              "        google.colab.kernel.accessAllowed ? 'block' : 'none';\n",
              "\n",
              "      async function convertToInteractive(key) {\n",
              "        const element = document.querySelector('#df-c9b623e8-0dce-4ebd-a6f1-9615e1d9da2e');\n",
              "        const dataTable =\n",
              "          await google.colab.kernel.invokeFunction('convertToInteractive',\n",
              "                                                    [key], {});\n",
              "        if (!dataTable) return;\n",
              "\n",
              "        const docLinkHtml = 'Like what you see? Visit the ' +\n",
              "          '<a target=\"_blank\" href=https://colab.research.google.com/notebooks/data_table.ipynb>data table notebook</a>'\n",
              "          + ' to learn more about interactive tables.';\n",
              "        element.innerHTML = '';\n",
              "        dataTable['output_type'] = 'display_data';\n",
              "        await google.colab.output.renderOutput(dataTable, element);\n",
              "        const docLink = document.createElement('div');\n",
              "        docLink.innerHTML = docLinkHtml;\n",
              "        element.appendChild(docLink);\n",
              "      }\n",
              "    </script>\n",
              "  </div>\n",
              "\n",
              "\n",
              "<div id=\"df-f4892b58-968b-4704-b919-ac248e43d103\">\n",
              "  <button class=\"colab-df-quickchart\" onclick=\"quickchart('df-f4892b58-968b-4704-b919-ac248e43d103')\"\n",
              "            title=\"Suggest charts\"\n",
              "            style=\"display:none;\">\n",
              "\n",
              "<svg xmlns=\"http://www.w3.org/2000/svg\" height=\"24px\"viewBox=\"0 0 24 24\"\n",
              "     width=\"24px\">\n",
              "    <g>\n",
              "        <path d=\"M19 3H5c-1.1 0-2 .9-2 2v14c0 1.1.9 2 2 2h14c1.1 0 2-.9 2-2V5c0-1.1-.9-2-2-2zM9 17H7v-7h2v7zm4 0h-2V7h2v10zm4 0h-2v-4h2v4z\"/>\n",
              "    </g>\n",
              "</svg>\n",
              "  </button>\n",
              "\n",
              "<style>\n",
              "  .colab-df-quickchart {\n",
              "      --bg-color: #E8F0FE;\n",
              "      --fill-color: #1967D2;\n",
              "      --hover-bg-color: #E2EBFA;\n",
              "      --hover-fill-color: #174EA6;\n",
              "      --disabled-fill-color: #AAA;\n",
              "      --disabled-bg-color: #DDD;\n",
              "  }\n",
              "\n",
              "  [theme=dark] .colab-df-quickchart {\n",
              "      --bg-color: #3B4455;\n",
              "      --fill-color: #D2E3FC;\n",
              "      --hover-bg-color: #434B5C;\n",
              "      --hover-fill-color: #FFFFFF;\n",
              "      --disabled-bg-color: #3B4455;\n",
              "      --disabled-fill-color: #666;\n",
              "  }\n",
              "\n",
              "  .colab-df-quickchart {\n",
              "    background-color: var(--bg-color);\n",
              "    border: none;\n",
              "    border-radius: 50%;\n",
              "    cursor: pointer;\n",
              "    display: none;\n",
              "    fill: var(--fill-color);\n",
              "    height: 32px;\n",
              "    padding: 0;\n",
              "    width: 32px;\n",
              "  }\n",
              "\n",
              "  .colab-df-quickchart:hover {\n",
              "    background-color: var(--hover-bg-color);\n",
              "    box-shadow: 0 1px 2px rgba(60, 64, 67, 0.3), 0 1px 3px 1px rgba(60, 64, 67, 0.15);\n",
              "    fill: var(--button-hover-fill-color);\n",
              "  }\n",
              "\n",
              "  .colab-df-quickchart-complete:disabled,\n",
              "  .colab-df-quickchart-complete:disabled:hover {\n",
              "    background-color: var(--disabled-bg-color);\n",
              "    fill: var(--disabled-fill-color);\n",
              "    box-shadow: none;\n",
              "  }\n",
              "\n",
              "  .colab-df-spinner {\n",
              "    border: 2px solid var(--fill-color);\n",
              "    border-color: transparent;\n",
              "    border-bottom-color: var(--fill-color);\n",
              "    animation:\n",
              "      spin 1s steps(1) infinite;\n",
              "  }\n",
              "\n",
              "  @keyframes spin {\n",
              "    0% {\n",
              "      border-color: transparent;\n",
              "      border-bottom-color: var(--fill-color);\n",
              "      border-left-color: var(--fill-color);\n",
              "    }\n",
              "    20% {\n",
              "      border-color: transparent;\n",
              "      border-left-color: var(--fill-color);\n",
              "      border-top-color: var(--fill-color);\n",
              "    }\n",
              "    30% {\n",
              "      border-color: transparent;\n",
              "      border-left-color: var(--fill-color);\n",
              "      border-top-color: var(--fill-color);\n",
              "      border-right-color: var(--fill-color);\n",
              "    }\n",
              "    40% {\n",
              "      border-color: transparent;\n",
              "      border-right-color: var(--fill-color);\n",
              "      border-top-color: var(--fill-color);\n",
              "    }\n",
              "    60% {\n",
              "      border-color: transparent;\n",
              "      border-right-color: var(--fill-color);\n",
              "    }\n",
              "    80% {\n",
              "      border-color: transparent;\n",
              "      border-right-color: var(--fill-color);\n",
              "      border-bottom-color: var(--fill-color);\n",
              "    }\n",
              "    90% {\n",
              "      border-color: transparent;\n",
              "      border-bottom-color: var(--fill-color);\n",
              "    }\n",
              "  }\n",
              "</style>\n",
              "\n",
              "  <script>\n",
              "    async function quickchart(key) {\n",
              "      const quickchartButtonEl =\n",
              "        document.querySelector('#' + key + ' button');\n",
              "      quickchartButtonEl.disabled = true;  // To prevent multiple clicks.\n",
              "      quickchartButtonEl.classList.add('colab-df-spinner');\n",
              "      try {\n",
              "        const charts = await google.colab.kernel.invokeFunction(\n",
              "            'suggestCharts', [key], {});\n",
              "      } catch (error) {\n",
              "        console.error('Error during call to suggestCharts:', error);\n",
              "      }\n",
              "      quickchartButtonEl.classList.remove('colab-df-spinner');\n",
              "      quickchartButtonEl.classList.add('colab-df-quickchart-complete');\n",
              "    }\n",
              "    (() => {\n",
              "      let quickchartButtonEl =\n",
              "        document.querySelector('#df-f4892b58-968b-4704-b919-ac248e43d103 button');\n",
              "      quickchartButtonEl.style.display =\n",
              "        google.colab.kernel.accessAllowed ? 'block' : 'none';\n",
              "    })();\n",
              "  </script>\n",
              "</div>\n",
              "    </div>\n",
              "  </div>\n"
            ]
          },
          "metadata": {},
          "execution_count": 121
        }
      ]
    },
    {
      "cell_type": "code",
      "source": [
        "housing.shape"
      ],
      "metadata": {
        "id": "KMEyJfVzR31R",
        "outputId": "44882314-5a26-406a-c2ba-8b3713dfc594",
        "colab": {
          "base_uri": "https://localhost:8080/"
        }
      },
      "execution_count": 122,
      "outputs": [
        {
          "output_type": "execute_result",
          "data": {
            "text/plain": [
              "(1155, 4)"
            ]
          },
          "metadata": {},
          "execution_count": 122
        }
      ]
    },
    {
      "cell_type": "code",
      "source": [
        "housing.info()"
      ],
      "metadata": {
        "colab": {
          "base_uri": "https://localhost:8080/"
        },
        "id": "EHhLWXXzRxUH",
        "outputId": "32f1c7f8-2775-4e37-d702-14da415be4a9"
      },
      "execution_count": 123,
      "outputs": [
        {
          "output_type": "stream",
          "name": "stdout",
          "text": [
            "<class 'pandas.core.frame.DataFrame'>\n",
            "RangeIndex: 1155 entries, 0 to 1154\n",
            "Data columns (total 4 columns):\n",
            " #   Column          Non-Null Count  Dtype  \n",
            "---  ------          --------------  -----  \n",
            " 0   Location        1155 non-null   object \n",
            " 1   Num_rooms       1068 non-null   float64\n",
            " 2   House_area(m²)  1068 non-null   float64\n",
            " 3   Price(DH)       1155 non-null   int64  \n",
            "dtypes: float64(2), int64(1), object(1)\n",
            "memory usage: 36.2+ KB\n"
          ]
        }
      ]
    },
    {
      "cell_type": "code",
      "source": [
        "casablanca_housing = housing.to_csv('housing_data.csv', index=False)"
      ],
      "metadata": {
        "id": "6J7_19plpatO"
      },
      "execution_count": 125,
      "outputs": []
    }
  ]
}